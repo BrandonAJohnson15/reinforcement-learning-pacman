{
 "cells": [
  {
   "cell_type": "markdown",
   "metadata": {},
   "source": [
    "Brandon Johnson"
   ]
  },
  {
   "cell_type": "markdown",
   "metadata": {},
   "source": [
    "For this project I chose to use the pygame library to create a GUI. pygame is available for free down at https://www.pygame.org/news"
   ]
  },
  {
   "cell_type": "code",
   "execution_count": 2,
   "metadata": {
    "collapsed": true
   },
   "outputs": [],
   "source": [
    "import sys, pygame\n",
    "from pygame.locals import *"
   ]
  },
  {
   "cell_type": "code",
   "execution_count": 3,
   "metadata": {},
   "outputs": [
    {
     "data": {
      "text/plain": [
       "(6, 0)"
      ]
     },
     "execution_count": 3,
     "metadata": {},
     "output_type": "execute_result"
    }
   ],
   "source": [
    "pygame.init()"
   ]
  },
  {
   "cell_type": "markdown",
   "metadata": {},
   "source": [
    "To represent the maze for the game, I chose to give each tile a key:\n",
    "\n",
    "\n",
    "Pac Man      = *\n",
    "\n",
    "Blinky       = B\n",
    "\n",
    "Pinky        = P\n",
    "\n",
    "Inky         = I\n",
    "\n",
    "Clyde        = C\n",
    "\n",
    "Wall         = -\n",
    "\n",
    "Dot          = .\n",
    "\n",
    "Power Pellet = $\n",
    "\n",
    "Empty Tile   = _\n",
    "\n",
    "Warp Left    = L\n",
    "\n",
    "Warp Right   = R"
   ]
  },
  {
   "cell_type": "markdown",
   "metadata": {},
   "source": [
    "I have decided to represent the initial maze in a text file. After doing some quick analysis we have these totals:\n",
    "868 tiles\n",
    "\n",
    "568 walls\n",
    "\n",
    "240 dots\n",
    "\n",
    "52 empty tiles\n",
    "\n",
    "4 power pellets\n",
    "\n",
    "4 ghosts\n",
    "\n",
    "2 warps\n",
    "\n",
    "and\n",
    "\n",
    "1 pac man"
   ]
  },
  {
   "cell_type": "markdown",
   "metadata": {
    "collapsed": true
   },
   "source": [
    "This gives us 240 + 52 + 4 + 2 + 1 + 1 = 300 walkable areas in the game. Note that only 1 ghost tile is accessible to Pac Man so I am only counting where Blinky starts at. Since each dot can turn into an empty tile that gives us * 240 = 72,000 + the possibility that each ghost and pac man can be in any of the 300 walkable areas as well. This quickly explodes to an unmanageable number of states. Because of this, we have to cut the number of states down drastically."
   ]
  },
  {
   "cell_type": "markdown",
   "metadata": {},
   "source": [
    "I am using the numpy loadtxt function to load a text file maze.txt that represents the maze. "
   ]
  },
  {
   "cell_type": "code",
   "execution_count": 39,
   "metadata": {},
   "outputs": [],
   "source": [
    "import numpy as np\n",
    "maze = np.loadtxt(\"maze.txt\", dtype=\"str\", delimiter=\" \")\n",
    "smallmaze = np.loadtxt(\"small-maze.txt\", dtype=\"str\", delimiter=\" \")\n",
    "colwidth = 28\n",
    "smallwidth = 16"
   ]
  },
  {
   "cell_type": "code",
   "execution_count": 40,
   "metadata": {},
   "outputs": [],
   "source": [
    "def printMaze(maze, colwidth):\n",
    "    for i in range(len(maze)):\n",
    "        if i != 0 and i % colwidth == 0:\n",
    "            print()\n",
    "        print(maze[i], end=\" \")\n"
   ]
  },
  {
   "cell_type": "code",
   "execution_count": 41,
   "metadata": {
    "scrolled": true
   },
   "outputs": [
    {
     "name": "stdout",
     "output_type": "stream",
     "text": [
      "- - - - - - - - - - - - - - - - - - - - - - - - - - - - \n",
      "- . . . . . . . . . . . . - - . . . . . . . . . . . . - \n",
      "- . - - - - . - - - - - . - - . - - - - - . - - - - . - \n",
      "- $ - - - - . - - - - - . - - . - - - - - . - - - - $ - \n",
      "- . - - - - . - - - - - . - - . - - - - - . - - - - . - \n",
      "- . . . . . . . . . . . . . . . . . . . . . . . . . . - \n",
      "- . - - - - . - - . - - - - - - - - . - - . - - - - . - \n",
      "- . - - - - . - - . - - - - - - - - . - - . - - - - . - \n",
      "- . . . . . . - - . . . . - - . . . . - - . . . . . . - \n",
      "- - - - - - . - - - - - _ - - _ - - - - - . - - - - - - \n",
      "- - - - - - . - - - - - _ - - _ - - - - - . - - - - - - \n",
      "- - - - - - . - - _ _ _ _ B _ _ _ _ _ - - . - - - - - - \n",
      "- - - - - - . - - _ - - - - - - - - _ - - . - - - - - - \n",
      "- - - - - - . - - _ - _ _ _ _ _ _ - _ - - . - - - - - - \n",
      "L _ _ _ _ _ . _ _ _ - I _ P _ _ C - _ _ _ . _ _ _ _ _ R \n",
      "- - - - - - . - - _ - _ _ _ _ _ _ - _ - - . - - - - - - \n",
      "- - - - - - . - - _ - - - - - - - - _ - - . - - - - - - \n",
      "- - - - - - . - - _ _ _ _ _ _ _ _ _ _ - - . - - - - - - \n",
      "- - - - - - . - - _ - - - - - - - - _ - - . - - - - - - \n",
      "- - - - - - . - - _ - - - - - - - - _ - - . - - - - - - \n",
      "- . . . . . . . . . . . . - - . . . . . . . . . . . . - \n",
      "- . - - - - . - - - - - . - - . - - - - - . - - - - . - \n",
      "- . - - - - . - - - - - . - - . - - - - - . - - - - . - \n",
      "- $ . . - - . . . . . . . _ * . . . . . . . - - . . $ - \n",
      "- - - . - - . - - . - - - - - - - - . - - . - - . - - - \n",
      "- - - . - - . - - . - - - - - - - - . - - . - - . - - - \n",
      "- . . . . . . - - . . . . - - . . . . - - . . . . . . - \n",
      "- . - - - - - - - - - - . - - . - - - - - - - - - - . - \n",
      "- . - - - - - - - - - - . - - . - - - - - - - - - - . - \n",
      "- . . . . . . . . . . . . . . . . . . . . . . . . . . - \n",
      "- - - - - - - - - - - - - - - - - - - - - - - - - - - - \n",
      " "
     ]
    }
   ],
   "source": [
    "printMaze(maze, colwidth)"
   ]
  },
  {
   "cell_type": "code",
   "execution_count": 42,
   "metadata": {},
   "outputs": [
    {
     "name": "stdout",
     "output_type": "stream",
     "text": [
      "- - - - - - - - - - - - - - - - \n",
      "- . . . . . . - - . . . . . . - \n",
      "- . - - - - . - - . - - - - . - \n",
      "- $ - - - - . - - . - - - - $ - \n",
      "- . - - - - . - - . - - - - . - \n",
      "- . - - - - . - - . - - - - . - \n",
      "- . . . . . . B . . . . . . . - \n",
      "- . - - - _ - - - - _ - - - . - \n",
      "- . - - - _ - _ _ - _ - - - . - \n",
      "- . - - - _ - _ _ - _ - - - . - \n",
      "- . - - - _ - _ _ - _ - - - . - \n",
      "- . - - - _ - - - - _ - - - . - \n",
      "- . . . . . . . * . . . . . . - \n",
      "- . - - - - - - - - - - - - . - \n",
      "- . - - - - - - - - - - - - . - \n",
      "- . . . . . . $ . . . . . . . - \n",
      "- - - - - - - - - - - - - - - - \n",
      "  "
     ]
    }
   ],
   "source": [
    "printMaze(smallmaze, smallwidth)"
   ]
  },
  {
   "cell_type": "code",
   "execution_count": 43,
   "metadata": {},
   "outputs": [],
   "source": [
    "background = pygame.image.load(\"maze.jpg\")"
   ]
  },
  {
   "cell_type": "code",
   "execution_count": null,
   "metadata": {
    "collapsed": true
   },
   "outputs": [],
   "source": []
  }
 ],
 "metadata": {
  "kernelspec": {
   "display_name": "Python 3",
   "language": "python",
   "name": "python3"
  },
  "language_info": {
   "codemirror_mode": {
    "name": "ipython",
    "version": 3
   },
   "file_extension": ".py",
   "mimetype": "text/x-python",
   "name": "python",
   "nbconvert_exporter": "python",
   "pygments_lexer": "ipython3",
   "version": "3.6.3"
  }
 },
 "nbformat": 4,
 "nbformat_minor": 2
}
